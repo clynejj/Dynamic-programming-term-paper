{
 "cells": [
  {
   "cell_type": "code",
   "execution_count": 1,
   "metadata": {},
   "outputs": [],
   "source": [
    "%load_ext autoreload\n",
    "%autoreload 2\n",
    "\n",
    "import numpy as np\n",
    "from mpl_toolkits import mplot3d\n",
    "import matplotlib\n",
    "import matplotlib.pyplot as plt\n",
    "\n",
    "import Bargaining_editted as brg\n",
    "\n",
    "# plot style\n",
    "linestyles = ['-','--','-.',':',':']\n",
    "markers = ['o','s','D','*','P']\n",
    "linewidth = 2\n",
    "font_size = 17\n",
    "font = {'size':font_size}\n",
    "matplotlib.rc('font', **font)\n",
    "\n",
    "plt.rcParams.update({'figure.max_open_warning': 0,'text.usetex': False})\n"
   ]
  },
  {
   "cell_type": "code",
   "execution_count": 2,
   "metadata": {},
   "outputs": [],
   "source": [
    "from Bargaining import HouseholdModelClass\n",
    "model = HouseholdModelClass()"
   ]
  },
  {
   "cell_type": "code",
   "execution_count": 3,
   "metadata": {},
   "outputs": [
    {
     "name": "stdout",
     "output_type": "stream",
     "text": [
      "t: 9\n"
     ]
    },
    {
     "name": "stderr",
     "output_type": "stream",
     "text": [
      "/Users/joshuaclyne/Library/Mobile Documents/com~apple~CloudDocs/2024/Dynamic programming/Dynamic-programming-term-paper-new/Josh from June 1/Bargaining.py:943: RuntimeWarning: divide by zero encountered in scalar divide\n",
      "  power_at_zero_m = par.grid_power[id] - Sm[id]/ratio_m\n",
      "/Users/joshuaclyne/Library/Mobile Documents/com~apple~CloudDocs/2024/Dynamic programming/Dynamic-programming-term-paper-new/Josh from June 1/Bargaining.py:944: RuntimeWarning: invalid value encountered in scalar multiply\n",
      "  Sw_at_zero_m = Sw[id] + ratio_w*( power_at_zero_m - par.grid_power[id] )\n",
      "/Users/joshuaclyne/anaconda3/lib/python3.11/site-packages/scipy/optimize/_optimize.py:404: RuntimeWarning: Values in x were outside bounds during a minimize step, clipping to bounds\n",
      "  warnings.warn(\"Values in x were outside bounds during a \"\n"
     ]
    },
    {
     "ename": "IndexError",
     "evalue": "index 2 is out of bounds for axis 6 with size 2",
     "output_type": "error",
     "traceback": [
      "\u001b[0;31m---------------------------------------------------------------------------\u001b[0m",
      "\u001b[0;31mIndexError\u001b[0m                                Traceback (most recent call last)",
      "Cell \u001b[0;32mIn[3], line 1\u001b[0m\n\u001b[0;32m----> 1\u001b[0m model\u001b[38;5;241m.\u001b[39msolve()\n",
      "File \u001b[0;32m~/Library/Mobile Documents/com~apple~CloudDocs/2024/Dynamic programming/Dynamic-programming-term-paper-new/Josh from June 1/Bargaining.py:306\u001b[0m, in \u001b[0;36mHouseholdModelClass.solve\u001b[0;34m(self)\u001b[0m\n\u001b[1;32m    304\u001b[0m     \u001b[38;5;28mprint\u001b[39m(\u001b[38;5;124mf\u001b[39m\u001b[38;5;124m\"\u001b[39m\u001b[38;5;124mt: \u001b[39m\u001b[38;5;132;01m{\u001b[39;00mt\u001b[38;5;132;01m}\u001b[39;00m\u001b[38;5;124m\"\u001b[39m)\n\u001b[1;32m    305\u001b[0m     \u001b[38;5;28mself\u001b[39m\u001b[38;5;241m.\u001b[39msolve_single(t)\n\u001b[0;32m--> 306\u001b[0m     \u001b[38;5;28mself\u001b[39m\u001b[38;5;241m.\u001b[39msolve_couple(t)\n\u001b[1;32m    308\u001b[0m \u001b[38;5;66;03m# total consumption\u001b[39;00m\n\u001b[1;32m    309\u001b[0m sol\u001b[38;5;241m.\u001b[39mC_tot_couple \u001b[38;5;241m=\u001b[39m sol\u001b[38;5;241m.\u001b[39mCw_priv_couple \u001b[38;5;241m+\u001b[39m sol\u001b[38;5;241m.\u001b[39mCm_priv_couple \u001b[38;5;241m+\u001b[39m sol\u001b[38;5;241m.\u001b[39mC_pub_couple\n",
      "File \u001b[0;32m~/Library/Mobile Documents/com~apple~CloudDocs/2024/Dynamic programming/Dynamic-programming-term-paper-new/Josh from June 1/Bargaining.py:475\u001b[0m, in \u001b[0;36mHouseholdModelClass.solve_couple\u001b[0;34m(self, t)\u001b[0m\n\u001b[1;32m    471\u001b[0m Sm \u001b[38;5;241m=\u001b[39m remain_Vm \u001b[38;5;241m-\u001b[39m sol\u001b[38;5;241m.\u001b[39mVm_single[idx_single_man]\n\u001b[1;32m    472\u001b[0m \u001b[38;5;66;03m#print(f\"Sw: {Sw}, Sm: {Sm}\")\u001b[39;00m\n\u001b[1;32m    473\u001b[0m \u001b[38;5;66;03m#print(f\"shape of Sw: {np.shape(Sw)}\")\u001b[39;00m\n\u001b[1;32m    474\u001b[0m \u001b[38;5;66;03m#print(f\"shape of Sm: {np.shape(Sm)}\")\u001b[39;00m\n\u001b[0;32m--> 475\u001b[0m check_participation_constraints(sol\u001b[38;5;241m.\u001b[39mpower_idx, sol\u001b[38;5;241m.\u001b[39mpower, Sw, Sm, idx_single_woman, idx_single_man, idx_couple, list_start_as_couple, list_remain_couple, list_trans_to_single, par)\n\u001b[1;32m    477\u001b[0m \u001b[38;5;66;03m# Save remain values\u001b[39;00m\n\u001b[1;32m    478\u001b[0m \u001b[38;5;28;01mfor\u001b[39;00m iP, power \u001b[38;5;129;01min\u001b[39;00m \u001b[38;5;28menumerate\u001b[39m(par\u001b[38;5;241m.\u001b[39mgrid_power):  \u001b[38;5;66;03m# Loop over different power levels!\u001b[39;00m\n",
      "File \u001b[0;32m~/Library/Mobile Documents/com~apple~CloudDocs/2024/Dynamic programming/Dynamic-programming-term-paper-new/Josh from June 1/Bargaining.py:965\u001b[0m, in \u001b[0;36mcheck_participation_constraints\u001b[0;34m(power_idx, power, Sw, Sm, idx_single_woman, idx_single_man, idx_couple, list_couple, list_raw, list_single, par)\u001b[0m\n\u001b[1;32m    963\u001b[0m \u001b[38;5;28;01melse\u001b[39;00m: \u001b[38;5;66;03m# divorce\u001b[39;00m\n\u001b[1;32m    964\u001b[0m     \u001b[38;5;28;01mfor\u001b[39;00m i, key \u001b[38;5;129;01min\u001b[39;00m \u001b[38;5;28menumerate\u001b[39m(list_couple):\n\u001b[0;32m--> 965\u001b[0m         list_couple[i][idx] \u001b[38;5;241m=\u001b[39m list_single[i][idx_single_woman]\n\u001b[1;32m    966\u001b[0m         list_couple[i][idx] \u001b[38;5;241m=\u001b[39m list_single[i][idx_single_man]\n\u001b[1;32m    968\u001b[0m     \u001b[38;5;28;01mif\u001b[39;00m \u001b[38;5;28mall\u001b[39m(x \u001b[38;5;241m<\u001b[39m s \u001b[38;5;28;01mfor\u001b[39;00m x, s \u001b[38;5;129;01min\u001b[39;00m \u001b[38;5;28mzip\u001b[39m(idx, power_idx\u001b[38;5;241m.\u001b[39mshape)):\n",
      "\u001b[0;31mIndexError\u001b[0m: index 2 is out of bounds for axis 6 with size 2"
     ]
    }
   ],
   "source": [
    "model.solve()"
   ]
  },
  {
   "cell_type": "code",
   "execution_count": null,
   "metadata": {},
   "outputs": [],
   "source": [
    "model.solve_couple(9)"
   ]
  },
  {
   "cell_type": "code",
   "execution_count": null,
   "metadata": {},
   "outputs": [],
   "source": [
    "model.value_of_choice_couple(0.32752066, 0.5, 5, 0.9,2, 2, 1,2,0.5,0.2, 0.2, 0)"
   ]
  },
  {
   "cell_type": "code",
   "execution_count": null,
   "metadata": {},
   "outputs": [],
   "source": [
    "model.solve_single(t=9)"
   ]
  },
  {
   "cell_type": "code",
   "execution_count": null,
   "metadata": {},
   "outputs": [],
   "source": [
    "model.intraperiod_allocation(0.5,1,-0.1,par)"
   ]
  },
  {
   "cell_type": "code",
   "execution_count": null,
   "metadata": {},
   "outputs": [],
   "source": [
    "print(model)"
   ]
  },
  {
   "cell_type": "markdown",
   "metadata": {},
   "source": [
    "# Solve and simulate from alternative models"
   ]
  },
  {
   "cell_type": "code",
   "execution_count": null,
   "metadata": {},
   "outputs": [],
   "source": [
    "# settings for models to solve\n",
    "T = 8\n",
    "specs = {\n",
    "    'model 1':{'latexname':'$\\kappa_w=0.5$', 'par':{'sigma_love':0.1,'T':T,'div_A_share':0.5}},\n",
    "    'model 2':{'latexname':'$\\kappa_w=0.1$', 'par':{'sigma_love':0.1,'T':T,'div_A_share':0.1}},\n",
    "}\n"
   ]
  },
  {
   "cell_type": "markdown",
   "metadata": {},
   "source": [
    "# Simulated paths"
   ]
  },
  {
   "attachments": {},
   "cell_type": "markdown",
   "metadata": {},
   "source": [
    "**Questions:**\n",
    "1. Why is the average love in couple increasing over the life cycle?\n",
    "2. How does wealth accumulation depend on initial power and distribution upon divorce?"
   ]
  },
  {
   "cell_type": "code",
   "execution_count": null,
   "metadata": {},
   "outputs": [],
   "source": [
    "var_list = ('power','love','couple','Cw_priv','Cm_priv','Cw_pub','C_tot','A')\n",
    "model_list = ('model 1','model 2')\n",
    "\n",
    "par = models[name].par\n",
    "for init_power_idx in (5,10):\n",
    "    for init_love in (0.0,0.2): \n",
    "        string = f'init. power:{par.grid_power[init_power_idx]:2.3f}, love:{init_love:2.2f}'\n",
    "\n",
    "        for i,name in enumerate(model_list):\n",
    "            model = models[name]\n",
    "\n",
    "            # show how starting of in a low bargaining power gradually improves\n",
    "            model.sim.init_power_idx[:] = init_power_idx\n",
    "            model.sim.init_love[:] = init_love \n",
    "            model.simulate()\n",
    "            \n",
    "        for var in var_list:\n",
    "\n",
    "            fig, ax = plt.subplots()\n",
    "            \n",
    "            for i,name in enumerate(model_list):\n",
    "                model = models[name]\n",
    "\n",
    "                # pick out couples (if not the share of couples is plotted)\n",
    "                if var == 'couple':\n",
    "                    nan = 0.0\n",
    "                else:\n",
    "                    I = model.sim.couple<1\n",
    "                    nan = np.zeros(I.shape)\n",
    "                    nan[I] = np.nan\n",
    "\n",
    "                # pick relevant variable for couples\n",
    "                y = getattr(model.sim,var)        \n",
    "                y = np.nanmean(y + nan,axis=0)\n",
    "\n",
    "                ax.plot(y,marker=markers[i],linestyle=linestyles[i],linewidth=linewidth,label=model.spec['latexname']);\n",
    "                ax.set(xlabel='age',ylabel=f'{var}',title=string);\n",
    "\n",
    "            plt.legend()\n",
    "            plt.tight_layout()\n",
    "                "
   ]
  }
 ],
 "metadata": {
  "kernelspec": {
   "display_name": "base",
   "language": "python",
   "name": "python3"
  },
  "language_info": {
   "codemirror_mode": {
    "name": "ipython",
    "version": 3
   },
   "file_extension": ".py",
   "mimetype": "text/x-python",
   "name": "python",
   "nbconvert_exporter": "python",
   "pygments_lexer": "ipython3",
   "version": "3.11.7"
  },
  "vscode": {
   "interpreter": {
    "hash": "2a1ca330d9582a7d9f549c991d1ebe88efa30325a2a9c927421566fc2176e6bd"
   }
  }
 },
 "nbformat": 4,
 "nbformat_minor": 4
}
