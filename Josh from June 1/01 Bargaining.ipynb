{
 "cells": [
  {
   "cell_type": "code",
   "execution_count": 2,
   "metadata": {},
   "outputs": [],
   "source": [
    "%load_ext autoreload\n",
    "%autoreload 2\n",
    "\n",
    "import numpy as np\n",
    "from mpl_toolkits import mplot3d\n",
    "import matplotlib\n",
    "import matplotlib.pyplot as plt\n",
    "\n",
    "import Bargaining as brg\n",
    "\n",
    "# plot style\n",
    "linestyles = ['-','--','-.',':',':']\n",
    "markers = ['o','s','D','*','P']\n",
    "linewidth = 2\n",
    "font_size = 17\n",
    "font = {'size':font_size}\n",
    "matplotlib.rc('font', **font)\n",
    "\n",
    "plt.rcParams.update({'figure.max_open_warning': 0,'text.usetex': False})\n"
   ]
  },
  {
   "cell_type": "code",
   "execution_count": 3,
   "metadata": {},
   "outputs": [],
   "source": [
    "from Bargaining import HouseholdModelClass\n",
    "model = HouseholdModelClass()"
   ]
  },
  {
   "cell_type": "code",
   "execution_count": 5,
   "metadata": {},
   "outputs": [
    {
     "name": "stdout",
     "output_type": "stream",
     "text": [
      "t: 9\n",
      "t: 8\n",
      "t: 7\n",
      "t: 6\n",
      "t: 5\n",
      "t: 4\n",
      "t: 3\n",
      "t: 2\n",
      "t: 1\n",
      "t: 0\n"
     ]
    }
   ],
   "source": [
    "model.solve()"
   ]
  },
  {
   "cell_type": "code",
   "execution_count": null,
   "metadata": {},
   "outputs": [],
   "source": [
    "model.solve_couple(9)"
   ]
  },
  {
   "cell_type": "code",
   "execution_count": null,
   "metadata": {},
   "outputs": [],
   "source": [
    "model.value_of_choice_couple(0.32752066, 0.5, 5, 0.9,2, 2, 1,2,0.5,0.2, 0.2, 0)"
   ]
  },
  {
   "cell_type": "code",
   "execution_count": null,
   "metadata": {},
   "outputs": [],
   "source": [
    "model.solve_single(t=9)"
   ]
  },
  {
   "cell_type": "code",
   "execution_count": null,
   "metadata": {},
   "outputs": [],
   "source": [
    "model.intraperiod_allocation(0.5,1,-0.1,par)"
   ]
  },
  {
   "cell_type": "code",
   "execution_count": null,
   "metadata": {},
   "outputs": [],
   "source": [
    "print(model)"
   ]
  },
  {
   "cell_type": "markdown",
   "metadata": {},
   "source": [
    "# Solve and simulate from alternative models"
   ]
  },
  {
   "cell_type": "code",
   "execution_count": null,
   "metadata": {},
   "outputs": [],
   "source": [
    "# settings for models to solve\n",
    "T = 8\n",
    "specs = {\n",
    "    'model 1':{'latexname':'$\\kappa_w=0.5$', 'par':{'sigma_love':0.1,'T':T,'div_A_share':0.5}},\n",
    "    'model 2':{'latexname':'$\\kappa_w=0.1$', 'par':{'sigma_love':0.1,'T':T,'div_A_share':0.1}},\n",
    "}\n"
   ]
  },
  {
   "cell_type": "markdown",
   "metadata": {},
   "source": [
    "# Simulated paths"
   ]
  },
  {
   "attachments": {},
   "cell_type": "markdown",
   "metadata": {},
   "source": [
    "**Questions:**\n",
    "1. Why is the average love in couple increasing over the life cycle?\n",
    "2. How does wealth accumulation depend on initial power and distribution upon divorce?"
   ]
  },
  {
   "cell_type": "code",
   "execution_count": null,
   "metadata": {},
   "outputs": [],
   "source": [
    "var_list = ('power','love','couple','Cw_priv','Cm_priv','Cw_pub','C_tot','A')\n",
    "model_list = ('model 1','model 2')\n",
    "\n",
    "par = models[name].par\n",
    "for init_power_idx in (5,10):\n",
    "    for init_love in (0.0,0.2): \n",
    "        string = f'init. power:{par.grid_power[init_power_idx]:2.3f}, love:{init_love:2.2f}'\n",
    "\n",
    "        for i,name in enumerate(model_list):\n",
    "            model = models[name]\n",
    "\n",
    "            # show how starting of in a low bargaining power gradually improves\n",
    "            model.sim.init_power_idx[:] = init_power_idx\n",
    "            model.sim.init_love[:] = init_love \n",
    "            model.simulate()\n",
    "            \n",
    "        for var in var_list:\n",
    "\n",
    "            fig, ax = plt.subplots()\n",
    "            \n",
    "            for i,name in enumerate(model_list):\n",
    "                model = models[name]\n",
    "\n",
    "                # pick out couples (if not the share of couples is plotted)\n",
    "                if var == 'couple':\n",
    "                    nan = 0.0\n",
    "                else:\n",
    "                    I = model.sim.couple<1\n",
    "                    nan = np.zeros(I.shape)\n",
    "                    nan[I] = np.nan\n",
    "\n",
    "                # pick relevant variable for couples\n",
    "                y = getattr(model.sim,var)        \n",
    "                y = np.nanmean(y + nan,axis=0)\n",
    "\n",
    "                ax.plot(y,marker=markers[i],linestyle=linestyles[i],linewidth=linewidth,label=model.spec['latexname']);\n",
    "                ax.set(xlabel='age',ylabel=f'{var}',title=string);\n",
    "\n",
    "            plt.legend()\n",
    "            plt.tight_layout()\n",
    "                "
   ]
  }
 ],
 "metadata": {
  "kernelspec": {
   "display_name": "base",
   "language": "python",
   "name": "python3"
  },
  "language_info": {
   "codemirror_mode": {
    "name": "ipython",
    "version": 3
   },
   "file_extension": ".py",
   "mimetype": "text/x-python",
   "name": "python",
   "nbconvert_exporter": "python",
   "pygments_lexer": "ipython3",
   "version": "3.11.7"
  },
  "vscode": {
   "interpreter": {
    "hash": "2a1ca330d9582a7d9f549c991d1ebe88efa30325a2a9c927421566fc2176e6bd"
   }
  }
 },
 "nbformat": 4,
 "nbformat_minor": 4
}
