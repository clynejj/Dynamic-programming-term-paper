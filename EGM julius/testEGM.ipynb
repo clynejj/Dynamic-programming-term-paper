{
 "cells": [
  {
   "cell_type": "markdown",
   "metadata": {},
   "source": [
    "Testing iEGM stuff "
   ]
  },
  {
   "cell_type": "code",
   "execution_count": 1,
   "metadata": {},
   "outputs": [],
   "source": [
    "%load_ext autoreload\n",
    "%autoreload 2\n",
    "import numpy as np\n",
    "import numba as nb"
   ]
  },
  {
   "cell_type": "code",
   "execution_count": 2,
   "metadata": {},
   "outputs": [
    {
     "name": "stdout",
     "output_type": "stream",
     "text": [
      "EconModel package is located at: c:\\Users\\juliu\\anaconda3\\lib\\site-packages\\EconModel\n"
     ]
    }
   ],
   "source": [
    "import EconModel\n",
    "import os\n",
    "\n",
    "# Get the path of the EconModel package\n",
    "econmodel_path = os.path.dirname(EconModel.__file__)\n",
    "print(f'EconModel package is located at: {econmodel_path}')"
   ]
  }
 ],
 "metadata": {
  "kernelspec": {
   "display_name": "base",
   "language": "python",
   "name": "python3"
  },
  "language_info": {
   "codemirror_mode": {
    "name": "ipython",
    "version": 3
   },
   "file_extension": ".py",
   "mimetype": "text/x-python",
   "name": "python",
   "nbconvert_exporter": "python",
   "pygments_lexer": "ipython3",
   "version": "3.9.18"
  }
 },
 "nbformat": 4,
 "nbformat_minor": 2
}
