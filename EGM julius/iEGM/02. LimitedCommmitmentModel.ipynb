{
 "cells": [
  {
   "cell_type": "code",
   "execution_count": 1,
   "metadata": {},
   "outputs": [
    {
     "name": "stdout",
     "output_type": "stream",
     "text": [
      "NLopt already installed\n"
     ]
    }
   ],
   "source": [
    "%load_ext autoreload\n",
    "%load_ext line_profiler\n",
    "%autoreload 2\n",
    "\n",
    "import numpy as np\n",
    "import pickle\n",
    "from time import time\n",
    "\n",
    "import LimitedCommitmentModel as lcm\n",
    "\n",
    "path = 'output/'\n",
    "\n",
    "# c++ settings\n",
    "do_compile = True\n",
    "threads = 20\n",
    "\n",
    "from EconModel import cpptools\n",
    "cpptools.setup_nlopt(folder='cppfuncs/', do_print=True)"
   ]
  },
  {
   "cell_type": "markdown",
   "metadata": {},
   "source": [
    "# Solve and simulate from alternative models"
   ]
  },
  {
   "cell_type": "markdown",
   "metadata": {},
   "source": [
    "Benchmark model settings"
   ]
  },
  {
   "cell_type": "code",
   "execution_count": 2,
   "metadata": {},
   "outputs": [],
   "source": [
    "settings = { \n",
    "       'T':20,\n",
    "       'p_meet': 0.1, \n",
    "       'div_A_share': 0.5, \n",
    "       'sigma_love':0.1, \n",
    "\n",
    "       'num_love': 21, \n",
    "       'num_A': 50, \n",
    "       'num_A_pd':50,\n",
    "\n",
    "       'simT':20,\n",
    "       'simN': 10000,\n",
    "\n",
    "       'threads':threads,\n",
    "       }"
   ]
  },
  {
   "cell_type": "markdown",
   "metadata": {},
   "source": [
    "Solve \"true\" model through dense grids using VFI"
   ]
  },
  {
   "cell_type": "code",
   "execution_count": 9,
   "metadata": {},
   "outputs": [
    {
     "ename": "MemoryError",
     "evalue": "Unable to allocate 870. MiB for an array with shape (20, 151, 151, 250) and data type float64",
     "output_type": "error",
     "traceback": [
      "\u001b[1;31m---------------------------------------------------------------------------\u001b[0m",
      "\u001b[1;31mMemoryError\u001b[0m                               Traceback (most recent call last)",
      "Cell \u001b[1;32mIn[9], line 3\u001b[0m\n\u001b[0;32m      1\u001b[0m specs_true \u001b[38;5;241m=\u001b[39m {\u001b[38;5;124m'\u001b[39m\u001b[38;5;124mtrue\u001b[39m\u001b[38;5;124m'\u001b[39m: {\u001b[38;5;124m'\u001b[39m\u001b[38;5;124mlatexname\u001b[39m\u001b[38;5;124m'\u001b[39m:\u001b[38;5;124m'\u001b[39m\u001b[38;5;124mtrue\u001b[39m\u001b[38;5;124m'\u001b[39m, \u001b[38;5;124m'\u001b[39m\u001b[38;5;124mpar\u001b[39m\u001b[38;5;124m'\u001b[39m:{\u001b[38;5;241m*\u001b[39m\u001b[38;5;241m*\u001b[39msettings, \u001b[38;5;124m'\u001b[39m\u001b[38;5;124mdo_egm\u001b[39m\u001b[38;5;124m'\u001b[39m:\u001b[38;5;28;01mFalse\u001b[39;00m,\u001b[38;5;124m'\u001b[39m\u001b[38;5;124mprecompute_intratemporal\u001b[39m\u001b[38;5;124m'\u001b[39m:\u001b[38;5;28;01mFalse\u001b[39;00m, \u001b[38;5;124m'\u001b[39m\u001b[38;5;124mnum_A\u001b[39m\u001b[38;5;124m'\u001b[39m: \u001b[38;5;241m250\u001b[39m, \u001b[38;5;124m'\u001b[39m\u001b[38;5;124mnum_power\u001b[39m\u001b[38;5;124m'\u001b[39m:\u001b[38;5;241m151\u001b[39m, \u001b[38;5;124m'\u001b[39m\u001b[38;5;124mnum_love\u001b[39m\u001b[38;5;124m'\u001b[39m:\u001b[38;5;241m151\u001b[39m}}}\n\u001b[1;32m----> 3\u001b[0m model_true \u001b[38;5;241m=\u001b[39m \u001b[43mlcm\u001b[49m\u001b[38;5;241;43m.\u001b[39;49m\u001b[43mHouseholdModelClass\u001b[49m\u001b[43m(\u001b[49m\u001b[43mpar\u001b[49m\u001b[38;5;241;43m=\u001b[39;49m\u001b[43mspecs_true\u001b[49m\u001b[43m[\u001b[49m\u001b[38;5;124;43m'\u001b[39;49m\u001b[38;5;124;43mtrue\u001b[39;49m\u001b[38;5;124;43m'\u001b[39;49m\u001b[43m]\u001b[49m\u001b[43m[\u001b[49m\u001b[38;5;124;43m'\u001b[39;49m\u001b[38;5;124;43mpar\u001b[39;49m\u001b[38;5;124;43m'\u001b[39;49m\u001b[43m]\u001b[49m\u001b[43m)\u001b[49m\n\u001b[0;32m      4\u001b[0m model_true\u001b[38;5;241m.\u001b[39mlink_to_cpp(force_compile\u001b[38;5;241m=\u001b[39mdo_compile)\n\u001b[0;32m      5\u001b[0m model_true\u001b[38;5;241m.\u001b[39msolve()\n",
      "File \u001b[1;32mc:\\Users\\juliu\\anaconda3\\lib\\site-packages\\EconModel\\EconModel.py:87\u001b[0m, in \u001b[0;36mEconModelClass.__init__\u001b[1;34m(self, name, load, from_dict, skip, **kwargs)\u001b[0m\n\u001b[0;32m     85\u001b[0m         \u001b[38;5;66;03m# vi. allocate\u001b[39;00m\n\u001b[0;32m     86\u001b[0m         \u001b[38;5;28;01massert\u001b[39;00m \u001b[38;5;28mhasattr\u001b[39m(\u001b[38;5;28mself\u001b[39m,\u001b[38;5;124m'\u001b[39m\u001b[38;5;124mallocate\u001b[39m\u001b[38;5;124m'\u001b[39m), \u001b[38;5;124m'\u001b[39m\u001b[38;5;124mthe model must have defined an .allocate() method\u001b[39m\u001b[38;5;124m'\u001b[39m\n\u001b[1;32m---> 87\u001b[0m         \u001b[38;5;28;43mself\u001b[39;49m\u001b[38;5;241;43m.\u001b[39;49m\u001b[43mallocate\u001b[49m\u001b[43m(\u001b[49m\u001b[43m)\u001b[49m\n\u001b[0;32m     89\u001b[0m \u001b[38;5;28;01melse\u001b[39;00m:\n\u001b[0;32m     91\u001b[0m     \u001b[38;5;28mself\u001b[39m\u001b[38;5;241m.\u001b[39mfrom_dict(from_dict)\n",
      "File \u001b[1;32mc:\\Users\\juliu\\Dynamic-programming-term-paper\\EGM julius\\iEGM\\LimitedCommitmentModel.py:168\u001b[0m, in \u001b[0;36mHouseholdModelClass.allocate\u001b[1;34m(self)\u001b[0m\n\u001b[0;32m    166\u001b[0m sol\u001b[38;5;241m.\u001b[39mV_couple_to_couple \u001b[38;5;241m=\u001b[39m \u001b[38;5;241m-\u001b[39mnp\u001b[38;5;241m.\u001b[39minf \u001b[38;5;241m+\u001b[39m np\u001b[38;5;241m.\u001b[39mones(shape_couple)           \u001b[38;5;66;03m# value marriage -> marriage, weighted by bargaining power (for DC-EGM)\u001b[39;00m\n\u001b[0;32m    167\u001b[0m                                                                    \u001b[38;5;66;03m# AMO: initialized at -inf which is useful in upper envelope\u001b[39;00m\n\u001b[1;32m--> 168\u001b[0m sol\u001b[38;5;241m.\u001b[39mCw_priv_couple_to_couple \u001b[38;5;241m=\u001b[39m \u001b[43mnp\u001b[49m\u001b[38;5;241;43m.\u001b[39;49m\u001b[43mnan\u001b[49m\u001b[43m \u001b[49m\u001b[38;5;241;43m+\u001b[39;49m\u001b[43m \u001b[49m\u001b[43mnp\u001b[49m\u001b[38;5;241;43m.\u001b[39;49m\u001b[43mones\u001b[49m\u001b[43m(\u001b[49m\u001b[43mshape_couple\u001b[49m\u001b[43m)\u001b[49m      \u001b[38;5;66;03m# private consumption, marriage -> marriage\u001b[39;00m\n\u001b[0;32m    169\u001b[0m sol\u001b[38;5;241m.\u001b[39mCm_priv_couple_to_couple \u001b[38;5;241m=\u001b[39m np\u001b[38;5;241m.\u001b[39mnan \u001b[38;5;241m+\u001b[39m np\u001b[38;5;241m.\u001b[39mones(shape_couple)      \n\u001b[0;32m    170\u001b[0m sol\u001b[38;5;241m.\u001b[39mC_pub_couple_to_couple \u001b[38;5;241m=\u001b[39m np\u001b[38;5;241m.\u001b[39mnan \u001b[38;5;241m+\u001b[39m np\u001b[38;5;241m.\u001b[39mones(shape_couple)        \u001b[38;5;66;03m# public consumption, marriage -> marriage\u001b[39;00m\n",
      "\u001b[1;31mMemoryError\u001b[0m: Unable to allocate 870. MiB for an array with shape (20, 151, 151, 250) and data type float64"
     ]
    }
   ],
   "source": [
    "specs_true = {'true': {'latexname':'true', 'par':{**settings, 'do_egm':False,'precompute_intratemporal':False, 'num_A': 250, 'num_power':151, 'num_love':151}}}\n",
    "\n",
    "model_true = lcm.HouseholdModelClass(par=specs_true['true']['par'])\n",
    "model_true.link_to_cpp(force_compile=do_compile)\n",
    "model_true.solve()"
   ]
  },
  {
   "cell_type": "markdown",
   "metadata": {},
   "source": [
    "## Monte Carlo runs"
   ]
  },
  {
   "cell_type": "markdown",
   "metadata": {},
   "source": [
    "Monte Carlo settings"
   ]
  },
  {
   "cell_type": "code",
   "execution_count": 3,
   "metadata": {},
   "outputs": [],
   "source": [
    "MC_num = 200 # number of Monte Carlo simulations\n",
    "C_num_grid = (20,50,100,200) # number of grid points in consumption grid i iEGM\n",
    "do_EGM = True\n",
    "do_VFI = True\n",
    "PRINT = False"
   ]
  },
  {
   "cell_type": "markdown",
   "metadata": {},
   "source": [
    "Set up containers"
   ]
  },
  {
   "cell_type": "code",
   "execution_count": 4,
   "metadata": {},
   "outputs": [],
   "source": [
    "timing = {\n",
    "    'vfi':np.nan + np.zeros(MC_num),\n",
    "    'egm, numerical': np.nan + np.zeros(MC_num),\n",
    "    'iegm, linear':dict(),\n",
    "    'iegm, linear inverse':dict(),\n",
    "}\n",
    "util = {\n",
    "    'vfi':np.nan + np.zeros(MC_num),\n",
    "    'egm, numerical': np.nan + np.zeros(MC_num),\n",
    "    'iegm, linear':dict(),\n",
    "    'iegm, linear inverse':dict(),\n",
    "}\n",
    "for i_c,num_C in enumerate(C_num_grid):\n",
    "    timing['iegm, linear'][num_C] = np.nan + np.zeros(MC_num)\n",
    "    util['iegm, linear'][num_C] = np.nan + np.zeros(MC_num)\n",
    "\n",
    "    timing['iegm, linear inverse'][num_C] = np.nan + np.zeros(MC_num)\n",
    "    util['iegm, linear inverse'][num_C] = np.nan + np.zeros(MC_num)"
   ]
  },
  {
   "cell_type": "markdown",
   "metadata": {},
   "source": [
    "Run monte carlo simulations"
   ]
  },
  {
   "cell_type": "code",
   "execution_count": 6,
   "metadata": {},
   "outputs": [],
   "source": [
    "# setup alternative model solution\n",
    "model = lcm.HouseholdModelClass(par=settings)\n",
    "model.link_to_cpp(force_compile=do_compile)"
   ]
  },
  {
   "cell_type": "code",
   "execution_count": 7,
   "metadata": {},
   "outputs": [],
   "source": [
    "for i_mc in range(MC_num):\n",
    "    if PRINT: print(f'{i_mc+1}/{MC_num} running...')\n",
    "\n",
    "    # simulate true model (solved once above)    \n",
    "    model_true.par.seed = i_mc\n",
    "    model_true.allocate_draws()\n",
    "    model_true.simulate()\n",
    "    true_mean_lifetime_util = model_true.sim.mean_lifetime_util\n",
    "\n",
    "    # re-draw for alternative model\n",
    "    model.par.seed = i_mc\n",
    "    model.allocate()\n",
    "\n",
    "    # VFI\n",
    "    if do_VFI:\n",
    "        model.par.do_egm = False\n",
    "        for precomp in (False,):\n",
    "            model.par.precompute_intratemporal = precomp\n",
    "            name_now = 'vfi' if not precomp else 'vfi precomp'\n",
    "\n",
    "            # Timing\n",
    "            t0 = time()\n",
    "            model.solve()\n",
    "            timing[name_now][i_mc] = time() - t0\n",
    "\n",
    "            # Lifetime utility error\n",
    "            model.simulate()\n",
    "            util[name_now][i_mc] = np.abs((model.sim.mean_lifetime_util - true_mean_lifetime_util)/true_mean_lifetime_util) * 100\n",
    "\n",
    "\n",
    "    # EGM, numerical\n",
    "    if do_EGM:\n",
    "        model.par.do_egm = True\n",
    "        model.par.interp_method = \"numerical\"\n",
    "        for precomp in (False,):\n",
    "            model.par.precompute_intratemporal = precomp\n",
    "            name_now = 'egm, numerical' if not precomp else 'egm, numerical precomp'\n",
    "\n",
    "            # Timing\n",
    "            t0 = time()\n",
    "            model.solve()\n",
    "            timing[name_now][i_mc] = time() - t0\n",
    "\n",
    "            # Lifetime utility error\n",
    "            model.simulate()\n",
    "            util[name_now][i_mc] = np.abs((model.sim.mean_lifetime_util - true_mean_lifetime_util)/true_mean_lifetime_util) * 100\n",
    "        \n",
    "\n",
    "    # iEGM\n",
    "    model.par.do_egm = True\n",
    "    model.par.interp_method = \"linear\"\n",
    "    model.par.precompute_intratemporal = False # Never use pre-computed values besides the interpolator for C\n",
    "    for interp_inverse in (False,True):\n",
    "        model.par.interp_inverse = interp_inverse\n",
    "        method = f'iegm, linear inverse' if interp_inverse else 'iegm, linear'\n",
    "        for i_c,num_C in enumerate(C_num_grid):\n",
    "            model.par.num_marg_u = num_C\n",
    "\n",
    "            model.allocate()\n",
    "\n",
    "            # Timing\n",
    "            t0 = time()\n",
    "            model.solve()\n",
    "            timing[method][num_C][i_mc] = time() - t0\n",
    "\n",
    "            # Lifetime utility error\n",
    "            model.simulate()\n",
    "            util[method][num_C][i_mc] = np.abs((model.sim.mean_lifetime_util - true_mean_lifetime_util)/true_mean_lifetime_util) * 100\n",
    "\n",
    "    # save MC objects\n",
    "    with open('output/MC_timing.pkl', 'wb') as f:\n",
    "        pickle.dump(timing, f)\n",
    "    with open('output/MC_util.pkl', 'wb') as f:\n",
    "        pickle.dump(util, f)"
   ]
  },
  {
   "cell_type": "markdown",
   "metadata": {},
   "source": [
    "Results"
   ]
  },
  {
   "cell_type": "code",
   "execution_count": 8,
   "metadata": {},
   "outputs": [
    {
     "name": "stdout",
     "output_type": "stream",
     "text": [
      "Lifetime utility & Timing (rel. to VFI)\n",
      "vfi: 0.163 & 1.000 \n",
      "egm, numerical: 0.163 & 0.290 \n",
      "iegm, linear: \n",
      "20 0.179 & 0.021 \n",
      "50 0.163 & 0.021 \n",
      "100 0.163 & 0.021 \n",
      "200 0.163 & 0.021 \n",
      "iegm, linear inverse: \n",
      "20 0.163 & 0.020 \n",
      "50 0.163 & 0.021 \n",
      "100 0.163 & 0.021 \n",
      "200 0.163 & 0.021 \n"
     ]
    }
   ],
   "source": [
    "print('Lifetime utility & Timing (rel. to VFI)')\n",
    "timing_vfi = np.nanmean(timing['vfi'])\n",
    "for method in ('vfi','egm, numerical'):\n",
    "    util_now = np.nanmean(util[method])\n",
    "    time_now = np.nanmean(timing[method]) / timing_vfi\n",
    "    print(f'{method}: {util_now:2.3f} & {time_now:2.3f} ')\n",
    "\n",
    "for method in ('iegm, linear','iegm, linear inverse'):\n",
    "    print(f'{method}: ')\n",
    "    for i_c,num_C in enumerate(C_num_grid):\n",
    "        util_now = np.nanmean(util[method][num_C]) \n",
    "        time_now = np.nanmean(timing[method][num_C]) / timing_vfi\n",
    "        print(f'{num_C:d} {util_now:2.3f} & {time_now:2.3f} ')"
   ]
  }
 ],
 "metadata": {
  "kernelspec": {
   "display_name": "Python 3",
   "language": "python",
   "name": "python3"
  },
  "language_info": {
   "codemirror_mode": {
    "name": "ipython",
    "version": 3
   },
   "file_extension": ".py",
   "mimetype": "text/x-python",
   "name": "python",
   "nbconvert_exporter": "python",
   "pygments_lexer": "ipython3",
   "version": "3.9.18"
  }
 },
 "nbformat": 4,
 "nbformat_minor": 4
}
