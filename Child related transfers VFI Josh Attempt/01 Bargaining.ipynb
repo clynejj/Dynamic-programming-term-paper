{
 "cells": [
  {
   "attachments": {},
   "cell_type": "markdown",
   "metadata": {},
   "source": [
    "# Limited Commitment Model\n",
    "In this simple example, singlehood is absorbing and couples choose\n",
    "individual consumption, $c_{j,t}$ for $j\\in\\{w,m\\}$ and public consumption,\n",
    "$c_{t}$. Individual preferences are of the CES type,\n",
    "\\begin{align*}\n",
    "U_{j}(c_{j,t},c_{t}) & =\\frac{1}{1-\\rho_{j}}\\left(\\alpha_{1,j}c_{j,t}^{\\phi_{j}}+\\alpha_{2,j}c_{t}^{\\phi_{j}}\\right)^{1-\\rho_{j}}\n",
    "\\end{align*}\n",
    "and the household budget for a couple is\n",
    "$$\n",
    "A_{t}+c_{t}+c_{w,t}+c_{m,t}=RA_{t-1}+Y_{w,t}+Y_{m,t}\n",
    "$$\n",
    "where $Y_{j,t}$ is exogenous income of member $j$, and $A_{t-1}$\n",
    "is beginning of period $t$ wealth. In each period, the couple receives\n",
    "a random value of remaining as a couple, $\\psi_{t}$, which follows\n",
    "a unit-root process,\n",
    "$$\n",
    "\\psi_{t+1}=\\psi_{t}+\\varepsilon_{t+1}\n",
    "$$\n",
    "where $\\varepsilon_{t}\\sim iid\\mathcal{N}(0,\\sigma_{\\psi}^{2})$.\n",
    "This love-shock is the only source of uncertainty in the model. The\n",
    "state variables for a couple is then $\\mathcal{S}_{t}=(\\psi_{t},A_{t-1})$\n",
    "besides the bargaining power coming into the period, $\\mu_{t-1}$.\n",
    "\n",
    "**The value of entering a period as a couple** is then\n",
    "$$\n",
    "V_{j,t}^{m}(\\psi_{t},A_{t-1},\\mu_{t-1})=D_{t}^{\\star}V_{j,t}^{m\\rightarrow s}(\\kappa_{j}A_{t-1})+(1-D_{t}^{\\star})V_{j,t}^{m\\rightarrow m}(\\psi_{t},A_{t-1},\\mu_{t-1})\n",
    "$$\n",
    "where $\\kappa_{j}$ is the share of household wealth member $j$ gets\n",
    "in case of divorce ($\\kappa_{w}+\\kappa_{m}=1$). The choice to divorce,\n",
    "$D_{t}^{\\star}$, is discussed below.\n",
    "\n",
    "**The value of transitioning into singlehood** is\n",
    "\\begin{align*}\n",
    "V_{j,t}^{m\\rightarrow s}(A_{t-1}) & =\\max_{c_{j,t},c_{t}}U_{j}(c_{j,t},c_{t})+\\beta V_{j,t+1}^{s}(A_{t})\\\\\n",
    " & \\text{s.t.}\\\\\n",
    "A_{t} & =RA_{t-1}+Y_{j,t}-c_{t}-c_{j,t}\n",
    "\\end{align*}\n",
    "where $V_{j,t+1}^{s}(A_{t})=V_{j,t+1}^{m\\rightarrow s}(A_{t})$ since\n",
    "singlehood is absorbing.\n",
    "\n",
    "**The value of remaining married** is\n",
    "\\begin{align*}\n",
    "V_{j,t}^{m\\rightarrow m}(\\psi_{t},A_{t-1},\\mu_{t-1}) & =U_{j}(c_{j,t}^{\\star},c_{t}^{\\star})+\\psi_{t}+\\beta\\mathbb{E}_{t}[V_{j,t+1}^{m}(\\psi_{t+1},A_{t},\\mu_{t})]\\\\\n",
    " & \\text{s.t.}\\\\\n",
    "A_{t} & =RA_{t-1}+Y_{w,t}+Y_{m,t}-(c_{t}^{\\star}+c_{w,t}^{\\star}+c_{m,t}^{\\star})\\\\\n",
    "\\psi_{t+1} & =\\psi_{t}+\\varepsilon_{t+1}\n",
    "\\end{align*}\n",
    "where $(c_{w,t}^{\\star},c_{m,t}^{\\star},c_{t}^{\\star})$ and $\\mu_{t}$\n",
    "are found along with $D_{t}^{\\star}$ in the following way.\n",
    "\n",
    "Let the solution to a problem of couples, under the condition that\n",
    "they remain together taking the bargaining power, $\\mu$, be\n",
    "\\begin{align*}\n",
    "\\tilde{c}_{w,t}(\\mu),\\tilde{c}_{m,t}(\\mu),\\tilde{c}_{t}(\\mu) & =\\arg\\max_{c_{w,t},c_{m,t},c_{t}}\\mu v_{w,t}(\\psi_{t},A_{t-1},c_{w,t},c_{m,t},c_{t},\\mu)\\\\\n",
    " & +(1-\\mu)v_{m,t}(\\psi_{t},A_{t-1},c_{w,t},c_{m,t},c_{t},\\mu)\\\\\n",
    " & \\text{s.t.}\\\\\n",
    "A_{t} & =RA_{t-1}+Y_{w,t}+Y_{m,t}-(c_{t}+c_{w,t}+c_{m,t})\\\\\n",
    "\\psi_{t+1} & =\\psi_{t}+\\varepsilon_{t+1},\\:\\varepsilon_{t}\\sim iid\\mathcal{N}(0,\\sigma_{\\psi}^{2})\n",
    "\\end{align*}\n",
    "where the value-of-choice given some $\\mu$ is\n",
    "\\begin{align}\n",
    "v_{j,t}(\\psi_{t},A_{t-1},\\mu,c_{w,t},c_{m,t},c_{t}) & =U_{j}(c_{j,t},c_{t})+\\psi_{t}+\\beta\\mathbb{E}_{t}[V_{j,t+1}^{m}(\\psi_{t+1},A_{t},\\mu)].\n",
    "\\end{align}\n",
    "\n",
    "First, solve the unconstrained problem under the assumption that none\n",
    "of the participation constraints are violated, such that $\\mu=\\mu_{t}=\\mu_{t-1}$.\n",
    "This gives $\\tilde{c}_{w,t}(\\mu_{t-1}),\\tilde{c}_{m,t}(\\mu_{t-1}),\\tilde{c}_{t}(\\mu_{t-1})$\n",
    "and individual values of marriage as $v_{j,t}(\\psi_{t},A_{t-1},\\mu_{t-1},\\tilde{c}_{w,t}(\\mu_{t-1}),\\tilde{c}_{m,t}(\\mu_{t-1}),\\tilde{c}_{t}(\\mu_{t-1}))$. \n",
    "\n",
    "**Checking the Participation Constraint**\n",
    "Secondly, check the participation constraints for three cases. For\n",
    "this purpose let \n",
    "$$\n",
    "S_{j,t}(\\mu)=S_{j,t}(\\psi_{t},A_{t-1},\\mu,c_{w,t},c_{m,t},c_{t})=v_{j,t}(\\psi_{t},A_{t-1},\\mu,c_{w,t},c_{m,t},c_{t})-V_{j,t}^{m\\rightarrow s}(\\kappa_{j}A_{t-1})\n",
    "$$\n",
    "denote the marital surplus of household member $j$. The three cases\n",
    "are\n",
    "\n",
    "1. If $S_{j,t}(\\mu_{t-1})\\geq0$ for both $j=w,m$, they remain married\n",
    "and keep the bargaining power unchanged. In turn, I  have $\\mu_{t}=\\mu_{t-1}$,\n",
    "$(c_{w,t}^{\\star},c_{m,t}^{\\star},c_{t}^{\\star})=(\\tilde{c}_{w,t}(\\mu_{t-1}),\\tilde{c}_{m,t}(\\mu_{t-1}),\\tilde{c}_{t}(\\mu_{t-1}))$,\n",
    "and $D_{t}^{\\star}=0$.\n",
    "2. If $S_{j,t}(\\mu_{t-1})<0$ for both $j=w,m$, they divorce. In turn\n",
    "$D_{t}^{\\star}=1$ and only $V_{j,t}^{m\\rightarrow s}(A_{t-1})$ matters.\n",
    "3. If one household member, say the woman, has a negative marital surplus\n",
    "while the man has a positive marital surplus, they re-negotiate $\\mu_{t}$.\n",
    "They do so by finding the lowest value $\\tilde{\\mu}$ that solves $$ \\tilde{\\mu}:S_{w,t}(\\tilde{\\mu})=0 $$ \n",
    "making her just indifferent between remaining married and divorcing.\n",
    "If the man also has a positive surplus for this value, $S_{m,t}(\\tilde{\\mu})\\geq0$,\n",
    "they remain married and increase the bargaining power of the woman.\n",
    "In turn, $\\mu_{t}=\\tilde{\\mu}$, $(c_{w,t}^{\\star},c_{m,t}^{\\star},c_{t}^{\\star})=(\\tilde{c}_{w,t}(\\tilde{\\mu}),\\tilde{c}_{m,t}(\\tilde{\\mu}),\\tilde{c}_{t}(\\tilde{\\mu}))$,\n",
    "and $D_{t}^{\\star}=0$. If, on the other hand, $S_{m,t}(\\tilde{\\mu})<0$,\n",
    "there is no value of $\\mu$ that can sustain the marriage, and the\n",
    "couple sets $D_{t}^{\\star}=1$.\n"
   ]
  },
  {
   "cell_type": "code",
   "execution_count": 1,
   "metadata": {},
   "outputs": [],
   "source": [
    "%load_ext autoreload\n",
    "%autoreload 2\n",
    "\n",
    "import numpy as np\n",
    "from mpl_toolkits import mplot3d\n",
    "import matplotlib\n",
    "import matplotlib.pyplot as plt\n",
    "\n",
    "import Bargaining as brg\n",
    "\n",
    "# plot style\n",
    "linestyles = ['-','--','-.',':',':']\n",
    "markers = ['o','s','D','*','P']\n",
    "linewidth = 2\n",
    "font_size = 17\n",
    "font = {'size':font_size}\n",
    "matplotlib.rc('font', **font)\n",
    "\n",
    "plt.rcParams.update({'figure.max_open_warning': 0,'text.usetex': False})\n"
   ]
  },
  {
   "cell_type": "code",
   "execution_count": 2,
   "metadata": {},
   "outputs": [],
   "source": [
    "from Bargaining import HouseholdModelClass\n",
    "model = HouseholdModelClass()"
   ]
  },
  {
   "cell_type": "code",
   "execution_count": 3,
   "metadata": {},
   "outputs": [
    {
     "ename": "AttributeError",
     "evalue": "'types.SimpleNamespace' object has no attribute 'Km_grid'",
     "output_type": "error",
     "traceback": [
      "\u001b[0;31m---------------------------------------------------------------------------\u001b[0m",
      "\u001b[0;31mAttributeError\u001b[0m                            Traceback (most recent call last)",
      "Cell \u001b[0;32mIn[3], line 1\u001b[0m\n\u001b[0;32m----> 1\u001b[0m model\u001b[38;5;241m.\u001b[39msolve_single(t\u001b[38;5;241m=\u001b[39m\u001b[38;5;241m5\u001b[39m)\n",
      "File \u001b[0;32m~/Library/Mobile Documents/com~apple~CloudDocs/2024/Dynamic programming/Dynamic-programming-term-paper/Child related transfers VFI Josh Attempt/Bargaining.py:367\u001b[0m, in \u001b[0;36mHouseholdModelClass.solve_single\u001b[0;34m(self, t)\u001b[0m\n\u001b[1;32m    364\u001b[0m \u001b[38;5;28;01melse\u001b[39;00m:\n\u001b[1;32m    365\u001b[0m     init \u001b[38;5;241m=\u001b[39m np\u001b[38;5;241m.\u001b[39marray([sol\u001b[38;5;241m.\u001b[39mCm_priv_single[idx_last], sol\u001b[38;5;241m.\u001b[39mHm_single[idx_last]])\n\u001b[0;32m--> 367\u001b[0m res \u001b[38;5;241m=\u001b[39m minimize(obj, init, bounds\u001b[38;5;241m=\u001b[39mbounds, method\u001b[38;5;241m=\u001b[39m\u001b[38;5;124m'\u001b[39m\u001b[38;5;124mL-BFGS-B\u001b[39m\u001b[38;5;124m'\u001b[39m, tol\u001b[38;5;241m=\u001b[39m\u001b[38;5;241m1.0e-8\u001b[39m) \n\u001b[1;32m    369\u001b[0m \u001b[38;5;66;03m# Store results separately for each gender\u001b[39;00m\n\u001b[1;32m    370\u001b[0m \u001b[38;5;28;01mif\u001b[39;00m gender \u001b[38;5;241m==\u001b[39m \u001b[38;5;124m'\u001b[39m\u001b[38;5;124mwoman\u001b[39m\u001b[38;5;124m'\u001b[39m:\n",
      "File \u001b[0;32m~/anaconda3/lib/python3.11/site-packages/scipy/optimize/_minimize.py:710\u001b[0m, in \u001b[0;36mminimize\u001b[0;34m(fun, x0, args, method, jac, hess, hessp, bounds, constraints, tol, callback, options)\u001b[0m\n\u001b[1;32m    707\u001b[0m     res \u001b[38;5;241m=\u001b[39m _minimize_newtoncg(fun, x0, args, jac, hess, hessp, callback,\n\u001b[1;32m    708\u001b[0m                              \u001b[38;5;241m*\u001b[39m\u001b[38;5;241m*\u001b[39moptions)\n\u001b[1;32m    709\u001b[0m \u001b[38;5;28;01melif\u001b[39;00m meth \u001b[38;5;241m==\u001b[39m \u001b[38;5;124m'\u001b[39m\u001b[38;5;124ml-bfgs-b\u001b[39m\u001b[38;5;124m'\u001b[39m:\n\u001b[0;32m--> 710\u001b[0m     res \u001b[38;5;241m=\u001b[39m _minimize_lbfgsb(fun, x0, args, jac, bounds,\n\u001b[1;32m    711\u001b[0m                            callback\u001b[38;5;241m=\u001b[39mcallback, \u001b[38;5;241m*\u001b[39m\u001b[38;5;241m*\u001b[39moptions)\n\u001b[1;32m    712\u001b[0m \u001b[38;5;28;01melif\u001b[39;00m meth \u001b[38;5;241m==\u001b[39m \u001b[38;5;124m'\u001b[39m\u001b[38;5;124mtnc\u001b[39m\u001b[38;5;124m'\u001b[39m:\n\u001b[1;32m    713\u001b[0m     res \u001b[38;5;241m=\u001b[39m _minimize_tnc(fun, x0, args, jac, bounds, callback\u001b[38;5;241m=\u001b[39mcallback,\n\u001b[1;32m    714\u001b[0m                         \u001b[38;5;241m*\u001b[39m\u001b[38;5;241m*\u001b[39moptions)\n",
      "File \u001b[0;32m~/anaconda3/lib/python3.11/site-packages/scipy/optimize/_lbfgsb_py.py:307\u001b[0m, in \u001b[0;36m_minimize_lbfgsb\u001b[0;34m(fun, x0, args, jac, bounds, disp, maxcor, ftol, gtol, eps, maxfun, maxiter, iprint, callback, maxls, finite_diff_rel_step, **unknown_options)\u001b[0m\n\u001b[1;32m    304\u001b[0m     \u001b[38;5;28;01melse\u001b[39;00m:\n\u001b[1;32m    305\u001b[0m         iprint \u001b[38;5;241m=\u001b[39m disp\n\u001b[0;32m--> 307\u001b[0m sf \u001b[38;5;241m=\u001b[39m _prepare_scalar_function(fun, x0, jac\u001b[38;5;241m=\u001b[39mjac, args\u001b[38;5;241m=\u001b[39margs, epsilon\u001b[38;5;241m=\u001b[39meps,\n\u001b[1;32m    308\u001b[0m                               bounds\u001b[38;5;241m=\u001b[39mnew_bounds,\n\u001b[1;32m    309\u001b[0m                               finite_diff_rel_step\u001b[38;5;241m=\u001b[39mfinite_diff_rel_step)\n\u001b[1;32m    311\u001b[0m func_and_grad \u001b[38;5;241m=\u001b[39m sf\u001b[38;5;241m.\u001b[39mfun_and_grad\n\u001b[1;32m    313\u001b[0m fortran_int \u001b[38;5;241m=\u001b[39m _lbfgsb\u001b[38;5;241m.\u001b[39mtypes\u001b[38;5;241m.\u001b[39mintvar\u001b[38;5;241m.\u001b[39mdtype\n",
      "File \u001b[0;32m~/anaconda3/lib/python3.11/site-packages/scipy/optimize/_optimize.py:383\u001b[0m, in \u001b[0;36m_prepare_scalar_function\u001b[0;34m(fun, x0, jac, args, bounds, epsilon, finite_diff_rel_step, hess)\u001b[0m\n\u001b[1;32m    379\u001b[0m     bounds \u001b[38;5;241m=\u001b[39m (\u001b[38;5;241m-\u001b[39mnp\u001b[38;5;241m.\u001b[39minf, np\u001b[38;5;241m.\u001b[39minf)\n\u001b[1;32m    381\u001b[0m \u001b[38;5;66;03m# ScalarFunction caches. Reuse of fun(x) during grad\u001b[39;00m\n\u001b[1;32m    382\u001b[0m \u001b[38;5;66;03m# calculation reduces overall function evaluations.\u001b[39;00m\n\u001b[0;32m--> 383\u001b[0m sf \u001b[38;5;241m=\u001b[39m ScalarFunction(fun, x0, args, grad, hess,\n\u001b[1;32m    384\u001b[0m                     finite_diff_rel_step, bounds, epsilon\u001b[38;5;241m=\u001b[39mepsilon)\n\u001b[1;32m    386\u001b[0m \u001b[38;5;28;01mreturn\u001b[39;00m sf\n",
      "File \u001b[0;32m~/anaconda3/lib/python3.11/site-packages/scipy/optimize/_differentiable_functions.py:158\u001b[0m, in \u001b[0;36mScalarFunction.__init__\u001b[0;34m(self, fun, x0, args, grad, hess, finite_diff_rel_step, finite_diff_bounds, epsilon)\u001b[0m\n\u001b[1;32m    155\u001b[0m     \u001b[38;5;28mself\u001b[39m\u001b[38;5;241m.\u001b[39mf \u001b[38;5;241m=\u001b[39m fun_wrapped(\u001b[38;5;28mself\u001b[39m\u001b[38;5;241m.\u001b[39mx)\n\u001b[1;32m    157\u001b[0m \u001b[38;5;28mself\u001b[39m\u001b[38;5;241m.\u001b[39m_update_fun_impl \u001b[38;5;241m=\u001b[39m update_fun\n\u001b[0;32m--> 158\u001b[0m \u001b[38;5;28mself\u001b[39m\u001b[38;5;241m.\u001b[39m_update_fun()\n\u001b[1;32m    160\u001b[0m \u001b[38;5;66;03m# Gradient evaluation\u001b[39;00m\n\u001b[1;32m    161\u001b[0m \u001b[38;5;28;01mif\u001b[39;00m \u001b[38;5;28mcallable\u001b[39m(grad):\n",
      "File \u001b[0;32m~/anaconda3/lib/python3.11/site-packages/scipy/optimize/_differentiable_functions.py:251\u001b[0m, in \u001b[0;36mScalarFunction._update_fun\u001b[0;34m(self)\u001b[0m\n\u001b[1;32m    249\u001b[0m \u001b[38;5;28;01mdef\u001b[39;00m \u001b[38;5;21m_update_fun\u001b[39m(\u001b[38;5;28mself\u001b[39m):\n\u001b[1;32m    250\u001b[0m     \u001b[38;5;28;01mif\u001b[39;00m \u001b[38;5;129;01mnot\u001b[39;00m \u001b[38;5;28mself\u001b[39m\u001b[38;5;241m.\u001b[39mf_updated:\n\u001b[0;32m--> 251\u001b[0m         \u001b[38;5;28mself\u001b[39m\u001b[38;5;241m.\u001b[39m_update_fun_impl()\n\u001b[1;32m    252\u001b[0m         \u001b[38;5;28mself\u001b[39m\u001b[38;5;241m.\u001b[39mf_updated \u001b[38;5;241m=\u001b[39m \u001b[38;5;28;01mTrue\u001b[39;00m\n",
      "File \u001b[0;32m~/anaconda3/lib/python3.11/site-packages/scipy/optimize/_differentiable_functions.py:155\u001b[0m, in \u001b[0;36mScalarFunction.__init__.<locals>.update_fun\u001b[0;34m()\u001b[0m\n\u001b[1;32m    154\u001b[0m \u001b[38;5;28;01mdef\u001b[39;00m \u001b[38;5;21mupdate_fun\u001b[39m():\n\u001b[0;32m--> 155\u001b[0m     \u001b[38;5;28mself\u001b[39m\u001b[38;5;241m.\u001b[39mf \u001b[38;5;241m=\u001b[39m fun_wrapped(\u001b[38;5;28mself\u001b[39m\u001b[38;5;241m.\u001b[39mx)\n",
      "File \u001b[0;32m~/anaconda3/lib/python3.11/site-packages/scipy/optimize/_differentiable_functions.py:137\u001b[0m, in \u001b[0;36mScalarFunction.__init__.<locals>.fun_wrapped\u001b[0;34m(x)\u001b[0m\n\u001b[1;32m    133\u001b[0m \u001b[38;5;28mself\u001b[39m\u001b[38;5;241m.\u001b[39mnfev \u001b[38;5;241m+\u001b[39m\u001b[38;5;241m=\u001b[39m \u001b[38;5;241m1\u001b[39m\n\u001b[1;32m    134\u001b[0m \u001b[38;5;66;03m# Send a copy because the user may overwrite it.\u001b[39;00m\n\u001b[1;32m    135\u001b[0m \u001b[38;5;66;03m# Overwriting results in undefined behaviour because\u001b[39;00m\n\u001b[1;32m    136\u001b[0m \u001b[38;5;66;03m# fun(self.x) will change self.x, with the two no longer linked.\u001b[39;00m\n\u001b[0;32m--> 137\u001b[0m fx \u001b[38;5;241m=\u001b[39m fun(np\u001b[38;5;241m.\u001b[39mcopy(x), \u001b[38;5;241m*\u001b[39margs)\n\u001b[1;32m    138\u001b[0m \u001b[38;5;66;03m# Make sure the function returns a true scalar\u001b[39;00m\n\u001b[1;32m    139\u001b[0m \u001b[38;5;28;01mif\u001b[39;00m \u001b[38;5;129;01mnot\u001b[39;00m np\u001b[38;5;241m.\u001b[39misscalar(fx):\n",
      "File \u001b[0;32m~/Library/Mobile Documents/com~apple~CloudDocs/2024/Dynamic programming/Dynamic-programming-term-paper/Child related transfers VFI Josh Attempt/Bargaining.py:348\u001b[0m, in \u001b[0;36mHouseholdModelClass.solve_single.<locals>.<lambda>\u001b[0;34m(x)\u001b[0m\n\u001b[1;32m    344\u001b[0m         sol\u001b[38;5;241m.\u001b[39mVm_single[idx] \u001b[38;5;241m=\u001b[39m \u001b[38;5;241m-\u001b[39mres\u001b[38;5;241m.\u001b[39mfun\n\u001b[1;32m    346\u001b[0m \u001b[38;5;28;01melse\u001b[39;00m:  \u001b[38;5;66;03m# earlier periods\u001b[39;00m\n\u001b[1;32m    347\u001b[0m     \u001b[38;5;66;03m# search over optimal total consumption, C\u001b[39;00m\n\u001b[0;32m--> 348\u001b[0m     obj \u001b[38;5;241m=\u001b[39m \u001b[38;5;28;01mlambda\u001b[39;00m x: \u001b[38;5;241m-\u001b[39m\u001b[38;5;28mself\u001b[39m\u001b[38;5;241m.\u001b[39mvalue_of_choice_single(x[\u001b[38;5;241m0\u001b[39m], x[\u001b[38;5;241m1\u001b[39m], A, K, kids, gender, t)\n\u001b[1;32m    350\u001b[0m     \u001b[38;5;66;03m# bounds on consumption \u001b[39;00m\n\u001b[1;32m    351\u001b[0m     lb_c \u001b[38;5;241m=\u001b[39m \u001b[38;5;241m0.000001\u001b[39m  \u001b[38;5;66;03m# avoid dividing with zero\u001b[39;00m\n",
      "File \u001b[0;32m~/Library/Mobile Documents/com~apple~CloudDocs/2024/Dynamic programming/Dynamic-programming-term-paper/Child related transfers VFI Josh Attempt/Bargaining.py:530\u001b[0m, in \u001b[0;36mHouseholdModelClass.value_of_choice_single\u001b[0;34m(self, C_tot, hours, assets, capital, kids, gender, t)\u001b[0m\n\u001b[1;32m    528\u001b[0m kids_next \u001b[38;5;241m=\u001b[39m kids\n\u001b[1;32m    529\u001b[0m V_next \u001b[38;5;241m=\u001b[39m sol\u001b[38;5;241m.\u001b[39mVm_single[t \u001b[38;5;241m+\u001b[39m \u001b[38;5;241m1\u001b[39m, kids_next]\n\u001b[0;32m--> 530\u001b[0m V_next_no_birth \u001b[38;5;241m=\u001b[39m linear_interp_2d(par\u001b[38;5;241m.\u001b[39mgrid_Am,par\u001b[38;5;241m.\u001b[39mKm_grid,V_next,a_next,k_next)\n\u001b[1;32m    531\u001b[0m \u001b[38;5;66;03m# birth\u001b[39;00m\n\u001b[1;32m    532\u001b[0m \u001b[38;5;28;01mif\u001b[39;00m (kids\u001b[38;5;241m>\u001b[39m\u001b[38;5;241m=\u001b[39m(par\u001b[38;5;241m.\u001b[39mNn\u001b[38;5;241m-\u001b[39m\u001b[38;5;241m1\u001b[39m)):\n\u001b[1;32m    533\u001b[0m     \u001b[38;5;66;03m# cannot have more children\u001b[39;00m\n",
      "\u001b[0;31mAttributeError\u001b[0m: 'types.SimpleNamespace' object has no attribute 'Km_grid'"
     ]
    }
   ],
   "source": [
    "model.solve_single(t=5)"
   ]
  },
  {
   "cell_type": "markdown",
   "metadata": {},
   "source": [
    "# Solve and simulate from alternative models"
   ]
  },
  {
   "cell_type": "code",
   "execution_count": 10,
   "metadata": {},
   "outputs": [],
   "source": [
    "# settings for models to solve\n",
    "T = 8\n",
    "specs = {\n",
    "    'model 1':{'latexname':'$\\kappa_w=0.5$', 'par':{'sigma_love':0.1,'T':T,'div_A_share':0.5}},\n",
    "    'model 2':{'latexname':'$\\kappa_w=0.1$', 'par':{'sigma_love':0.1,'T':T,'div_A_share':0.1}},\n",
    "}\n"
   ]
  },
  {
   "cell_type": "markdown",
   "metadata": {},
   "source": [
    "# Simulated paths"
   ]
  },
  {
   "attachments": {},
   "cell_type": "markdown",
   "metadata": {},
   "source": [
    "**Questions:**\n",
    "1. Why is the average love in couple increasing over the life cycle?\n",
    "2. How does wealth accumulation depend on initial power and distribution upon divorce?"
   ]
  },
  {
   "cell_type": "code",
   "execution_count": 11,
   "metadata": {},
   "outputs": [
    {
     "ename": "NameError",
     "evalue": "name 'models' is not defined",
     "output_type": "error",
     "traceback": [
      "\u001b[0;31m---------------------------------------------------------------------------\u001b[0m",
      "\u001b[0;31mNameError\u001b[0m                                 Traceback (most recent call last)",
      "Cell \u001b[0;32mIn[11], line 4\u001b[0m\n\u001b[1;32m      1\u001b[0m var_list \u001b[38;5;241m=\u001b[39m (\u001b[38;5;124m'\u001b[39m\u001b[38;5;124mpower\u001b[39m\u001b[38;5;124m'\u001b[39m,\u001b[38;5;124m'\u001b[39m\u001b[38;5;124mlove\u001b[39m\u001b[38;5;124m'\u001b[39m,\u001b[38;5;124m'\u001b[39m\u001b[38;5;124mcouple\u001b[39m\u001b[38;5;124m'\u001b[39m,\u001b[38;5;124m'\u001b[39m\u001b[38;5;124mCw_priv\u001b[39m\u001b[38;5;124m'\u001b[39m,\u001b[38;5;124m'\u001b[39m\u001b[38;5;124mCm_priv\u001b[39m\u001b[38;5;124m'\u001b[39m,\u001b[38;5;124m'\u001b[39m\u001b[38;5;124mCw_pub\u001b[39m\u001b[38;5;124m'\u001b[39m,\u001b[38;5;124m'\u001b[39m\u001b[38;5;124mC_tot\u001b[39m\u001b[38;5;124m'\u001b[39m,\u001b[38;5;124m'\u001b[39m\u001b[38;5;124mA\u001b[39m\u001b[38;5;124m'\u001b[39m)\n\u001b[1;32m      2\u001b[0m model_list \u001b[38;5;241m=\u001b[39m (\u001b[38;5;124m'\u001b[39m\u001b[38;5;124mmodel 1\u001b[39m\u001b[38;5;124m'\u001b[39m,\u001b[38;5;124m'\u001b[39m\u001b[38;5;124mmodel 2\u001b[39m\u001b[38;5;124m'\u001b[39m)\n\u001b[0;32m----> 4\u001b[0m par \u001b[38;5;241m=\u001b[39m models[name]\u001b[38;5;241m.\u001b[39mpar\n\u001b[1;32m      5\u001b[0m \u001b[38;5;28;01mfor\u001b[39;00m init_power_idx \u001b[38;5;129;01min\u001b[39;00m (\u001b[38;5;241m5\u001b[39m,\u001b[38;5;241m10\u001b[39m):\n\u001b[1;32m      6\u001b[0m     \u001b[38;5;28;01mfor\u001b[39;00m init_love \u001b[38;5;129;01min\u001b[39;00m (\u001b[38;5;241m0.0\u001b[39m,\u001b[38;5;241m0.2\u001b[39m): \n",
      "\u001b[0;31mNameError\u001b[0m: name 'models' is not defined"
     ]
    }
   ],
   "source": [
    "var_list = ('power','love','couple','Cw_priv','Cm_priv','Cw_pub','C_tot','A')\n",
    "model_list = ('model 1','model 2')\n",
    "\n",
    "par = models[name].par\n",
    "for init_power_idx in (5,10):\n",
    "    for init_love in (0.0,0.2): \n",
    "        string = f'init. power:{par.grid_power[init_power_idx]:2.3f}, love:{init_love:2.2f}'\n",
    "\n",
    "        for i,name in enumerate(model_list):\n",
    "            model = models[name]\n",
    "\n",
    "            # show how starting of in a low bargaining power gradually improves\n",
    "            model.sim.init_power_idx[:] = init_power_idx\n",
    "            model.sim.init_love[:] = init_love \n",
    "            model.simulate()\n",
    "            \n",
    "        for var in var_list:\n",
    "\n",
    "            fig, ax = plt.subplots()\n",
    "            \n",
    "            for i,name in enumerate(model_list):\n",
    "                model = models[name]\n",
    "\n",
    "                # pick out couples (if not the share of couples is plotted)\n",
    "                if var == 'couple':\n",
    "                    nan = 0.0\n",
    "                else:\n",
    "                    I = model.sim.couple<1\n",
    "                    nan = np.zeros(I.shape)\n",
    "                    nan[I] = np.nan\n",
    "\n",
    "                # pick relevant variable for couples\n",
    "                y = getattr(model.sim,var)        \n",
    "                y = np.nanmean(y + nan,axis=0)\n",
    "\n",
    "                ax.plot(y,marker=markers[i],linestyle=linestyles[i],linewidth=linewidth,label=model.spec['latexname']);\n",
    "                ax.set(xlabel='age',ylabel=f'{var}',title=string);\n",
    "\n",
    "            plt.legend()\n",
    "            plt.tight_layout()\n",
    "                "
   ]
  }
 ],
 "metadata": {
  "kernelspec": {
   "display_name": "base",
   "language": "python",
   "name": "python3"
  },
  "language_info": {
   "codemirror_mode": {
    "name": "ipython",
    "version": 3
   },
   "file_extension": ".py",
   "mimetype": "text/x-python",
   "name": "python",
   "nbconvert_exporter": "python",
   "pygments_lexer": "ipython3",
   "version": "3.11.7"
  },
  "vscode": {
   "interpreter": {
    "hash": "2a1ca330d9582a7d9f549c991d1ebe88efa30325a2a9c927421566fc2176e6bd"
   }
  }
 },
 "nbformat": 4,
 "nbformat_minor": 4
}
